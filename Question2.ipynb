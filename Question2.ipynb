{
 "cells": [
  {
   "attachments": {},
   "cell_type": "markdown",
   "metadata": {
    "id": "un_07izr0mCO",
    "pycharm": {
     "name": "#%% md\n"
    }
   },
   "source": [
    "<h1 align=\"center\">An Introduction to Machine Learning - 25737</h1>\n",
    "<h4 align=\"center\">Dr. Sajjad Amini</h4>\n",
    "<h4 align=\"center\">Sharif University of Technology, Spring 2023</h4>\n",
    "\n",
    "**Student Name**:Mohammad Ghafourian\n",
    "\n",
    "**Student ID**:99106493\n",
    "\n",
    "# Effect of Overfitting\n",
    "\n",
    "In this exercise, we want to examine the effect of **overfitting**. As you learned in class, using too many features in training can result in a model with very low loss on the training set but high loss on the validation and test set. For this purpose, we have prepared a dataset in the `q2-train.npy`, `q2-valid.npy`, and `q2-test.npy` files for you. We know that `y` is a polynomial function of `x` in this dataset, meaning that \n",
    "\n",
    "$$\n",
    "y = \\sum_{i=0}^{k}a_ix^i\n",
    "$$\n",
    "\n",
    "However, we do not know the exact value of `k`."
   ]
  },
  {
   "attachments": {},
   "cell_type": "markdown",
   "metadata": {
    "id": "rcSNUeqT158e",
    "pycharm": {
     "name": "#%% md\n"
    }
   },
   "source": [
    "## Importing Libraries\n",
    "\n",
    "First, we import the necessary libraries for this assignment. Please note that you should only use these libraries and no other libraries are acceptable."
   ]
  },
  {
   "cell_type": "code",
   "execution_count": 1,
   "metadata": {
    "id": "UitW8b0J0jBa",
    "pycharm": {
     "name": "#%%\n"
    }
   },
   "outputs": [],
   "source": [
    "import numpy as np\n",
    "import matplotlib.pyplot as plt"
   ]
  },
  {
   "attachments": {},
   "cell_type": "markdown",
   "metadata": {
    "id": "Q1x7BaU22F4k",
    "pycharm": {
     "name": "#%% md\n"
    }
   },
   "source": [
    "## Reading Data and Preprocessing\n",
    "\n",
    "In this part of the assignment, you should read data from the `.npy` files. The data in `q2-train.npy` file is your training set and should be stored in the `X_train` and `Y_train` variables. Similarly, the data in `q2-valid.npy` file is your validation set, and the data in `q2-test.npy` file is your test set, which should be stored in `X_val`, `Y_val`, `X_test`, and `Y_test` respectively. You can use the `np.load` function to read the `.npy` files."
   ]
  },
  {
   "cell_type": "code",
   "execution_count": 2,
   "metadata": {
    "id": "dDMeq10G2m0U",
    "pycharm": {
     "name": "#%%\n"
    }
   },
   "outputs": [],
   "source": [
    "X_train, Y_train, X_val, Y_val, X_test, Y_test = None, None, None, None, None, None\n",
    "\n",
    "### START CODE HERE ###\n",
    "train_data = np.load('q2-train.npy')\n",
    "X_train = train_data[:, 0]\n",
    "Y_train = train_data[:, 1]\n",
    "\n",
    "val_data = np.load('q2-valid.npy')\n",
    "X_val = val_data[:, 0]\n",
    "Y_val = val_data[:, 1]\n",
    "\n",
    "test_data = np.load('q2-test.npy')\n",
    "X_test = test_data[:, 0]\n",
    "Y_test = test_data[:, 1]\n",
    "\n",
    "### END CODE HERE ###"
   ]
  },
  {
   "attachments": {},
   "cell_type": "markdown",
   "metadata": {
    "id": "nyXpEfEa3Gw-",
    "pycharm": {
     "name": "#%% md\n"
    }
   },
   "source": [
    "To find the best value of `k`, we want to change `k` from 1 to 12 and examine its effect on the validation set, and then choose the right value of `k`. For this purpose, we need to create a matrix with columns equal to $x^0$, $x^1$, $x^2$, ..., $x^k$ for every value of `k`. You can complete the following function to do this job. The function takes an $m \\times 1$ vector `X` containing values of input `x` and returns an $m \\times (k+1)$ matrix that has the properties mentioned above."
   ]
  },
  {
   "cell_type": "code",
   "execution_count": 3,
   "metadata": {
    "id": "DXw2tPO84Ksp",
    "pycharm": {
     "name": "#%%\n"
    }
   },
   "outputs": [],
   "source": [
    "def create_matrix(X,k):\n",
    "  '''\n",
    "  X: an m by 1 array \n",
    "  '''\n",
    "  new_X = None\n",
    "  ### START CODE HERE ###\n",
    "  m = X.shape[0]\n",
    "  new_X = np.zeros((m, k+1))\n",
    "  for i in range(k+1):\n",
    "      new_X[:, i] = X[:] ** i\n",
    "  ### END CODE HERE ###\n",
    "  return new_X"
   ]
  },
  {
   "attachments": {},
   "cell_type": "markdown",
   "metadata": {
    "id": "WCTuye7C5Aq3",
    "pycharm": {
     "name": "#%% md\n"
    }
   },
   "source": [
    "## Validate Model\n",
    "\n",
    "Now, we want to train our model for every value of `k`. You can use any of the methods that we used in **Question 1** (gradient descent or direct calculation) for this purpose. The following function trains our model on the training set for a given value of `k`, and then returns the loss on the training set and validation set, as well as the weight vector `w`."
   ]
  },
  {
   "cell_type": "code",
   "execution_count": 4,
   "metadata": {
    "id": "9lfWITgf7yQH",
    "pycharm": {
     "name": "#%%\n"
    }
   },
   "outputs": [],
   "source": [
    "# If you need any other function for training write it here\n",
    "def loss(X, Y, w):\n",
    "  '''\n",
    "  X: an m by (n+1) matrix which includes inputs\n",
    "  Y: an m by 1 vector which includes heating loads\n",
    "  w: an (n+1) by 1 weight vector\n",
    "  '''\n",
    "  m, n = X.shape\n",
    "  loss = None\n",
    "  ### START CODE HERE ###\n",
    "  wTx = np.dot(X, w)\n",
    "  loss = np.sum(np.square(wTx - Y)) / (2*m)\n",
    "  ### END CODE HERE ###\n",
    "  return loss\n",
    "\n",
    "def direct_method(X, Y):\n",
    "  '''\n",
    "  X: an m by (n+1) matrix which includes inputs\n",
    "  Y: an m by 1 vector which includes heating loads\n",
    "  '''\n",
    "  w = None\n",
    "  ### START CODE HERE ###\n",
    "  X_transpose = np.transpose(X)\n",
    "  w = np.linalg.inv(X_transpose @ X) @ X_transpose @ Y\n",
    "  ### END CODE HERE ###\n",
    "  return w\n",
    "# (like gradient descent or anything else)"
   ]
  },
  {
   "cell_type": "code",
   "execution_count": 5,
   "metadata": {
    "id": "JaIs631q508z",
    "pycharm": {
     "name": "#%%\n"
    }
   },
   "outputs": [],
   "source": [
    "def train(X_train, Y_train, X_val, Y_val, k):\n",
    "  '''\n",
    "  X_train: an m_train by 1 vector contains training points\n",
    "  Y_train: an m_train by 1 vector contains training values\n",
    "  X_val: an m_val by 1 vector contains validation points\n",
    "  Y_val: an m_val by 1 vector contains validation values\n",
    "  k: degree of polynomial\n",
    "  '''\n",
    "  w, loss_train, loss_val = None, None, None\n",
    "  ### START CODE HERE ###\n",
    "  X_train = create_matrix(X_train,k)\n",
    "  X_val = create_matrix(X_val ,k )\n",
    "  w =direct_method(X_train,Y_train)\n",
    "  loss_train = loss(X_train,Y_train,w)\n",
    "  loss_val = loss(X_val , Y_val ,w)\n",
    "  ### END CODE HERE ###\n",
    "  return w, loss_train, loss_val"
   ]
  },
  {
   "attachments": {},
   "cell_type": "markdown",
   "metadata": {
    "id": "eAsZfxCu6YEf",
    "pycharm": {
     "name": "#%% md\n"
    }
   },
   "source": [
    "In the cell below, you can change the value of `k` between 1 and 12 and plot the loss on the training and validation set as a function of `k` in the same plot.\n",
    "\n",
    "**Question**: Discuss about the effect of $k$.\n",
    "\n",
    "**Answer**: with increasing k our train loss decrease but because of overfitting increases the valid loss."
   ]
  },
  {
   "cell_type": "code",
   "execution_count": 6,
   "metadata": {
    "id": "knUTXtOv66Wx",
    "pycharm": {
     "name": "#%%\n"
    }
   },
   "outputs": [
    {
     "data": {
      "text/plain": "<Figure size 640x480 with 1 Axes>",
      "image/png": "[encoded data removed]"
     },
     "metadata": {},
     "output_type": "display_data"
    }
   ],
   "source": [
    "### START CODE HERE ###\n",
    "k_list =[x+1 for x in range(12)]\n",
    "losses_train =[]\n",
    "losses_valid =[]\n",
    "w_list = []\n",
    "for k in k_list:\n",
    "  w, loss_train,loss_valid = train(X_train,Y_train,X_val,Y_val,k);\n",
    "  losses_train.append(loss_train)\n",
    "  losses_valid.append(loss_valid)\n",
    "  w_list.append(w)\n",
    "\n",
    "plt.plot(k_list, losses_train, label='Training loss')\n",
    "plt.plot(k_list, losses_valid, label='Validation loss')\n",
    "plt.xlabel('k')\n",
    "plt.ylabel('Loss')\n",
    "plt.title('Loss on Training and Validation Set')\n",
    "plt.legend()\n",
    "plt.grid()\n",
    "plt.show()\n",
    "#print(w_list)\n",
    "### END CODE HERE ###"
   ]
  },
  {
   "cell_type": "markdown",
   "metadata": {
    "id": "K0M1d2Ez7JLJ",
    "pycharm": {
     "name": "#%% md\n"
    }
   },
   "source": [
    "## Evaluating Model\n",
    "\n",
    "In the cell below find the loss of your best model on the test set.\n",
    "\n",
    "**Question**: Why we need test set?\n",
    "\n",
    "**Answer**:"
   ]
  },
  {
   "cell_type": "code",
   "execution_count": 7,
   "metadata": {
    "id": "Ex1P5H0A7emE",
    "pycharm": {
     "name": "#%%\n"
    }
   },
   "outputs": [
    {
     "name": "stdout",
     "output_type": "stream",
     "text": [
      "test loss is for k = 8:  0.05895712398604512\n",
      "train loss is for k = 8:  0.022410565463804755\n",
      "valid loss is for k = 8:  0.05564659584368912\n",
      "test loss is for k = 12:  0.3046347951102929\n",
      "train loss is for k = 12:  0.01934431263211123\n",
      "valid loss is for k = 12:  1.3623235500399813\n"
     ]
    }
   ],
   "source": [
    "### START CODE HERE ###\n",
    "# in k=8 we can see the best valid loss from training\n",
    "newX_Test = create_matrix(X_test,k=8)\n",
    "test_loss = loss(newX_Test,Y_test,w_list[7])\n",
    "print(\"test loss is for k = 8: \",test_loss)\n",
    "print(\"train loss is for k = 8: \",losses_train[7])\n",
    "print(\"valid loss is for k = 8: \",losses_valid[7])\n",
    "newX_Test = create_matrix(X_test,k=12)\n",
    "test_loss = loss(newX_Test,Y_test,w_list[11])\n",
    "print(\"test loss is for k = 12: \",test_loss)\n",
    "print(\"train loss is for k = 12: \",losses_train[11])\n",
    "print(\"valid loss is for k = 12: \",losses_valid[11])\n",
    "### END CODE HERE ###"
   ]
  }
 ],
 "metadata": {
  "colab": {
   "provenance": []
  },
  "kernelspec": {
   "display_name": "Python 3",
   "name": "python3"
  },
  "language_info": {
   "name": "python"
  }
 },
 "nbformat": 4,
 "nbformat_minor": 0
}