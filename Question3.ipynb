{
 "cells": [
  {
   "attachments": {},
   "cell_type": "markdown",
   "metadata": {
    "id": "j5uereX7Mkpx",
    "pycharm": {
     "name": "#%% md\n"
    }
   },
   "source": [
    "<h1 align=\"center\">An Introduction to Machine Learning - 25737</h1>\n",
    "<h4 align=\"center\">Dr. Sajjad Amini</h4>\n",
    "<h4 align=\"center\">Sharif University of Technology, Spring 2023</h4>\n",
    "\n",
    "**Student Name**:mohammad ghafourian\n",
    "\n",
    "**Student ID**:99106493\n",
    "\n",
    "# Classification\n",
    "\n",
    "In this question, we will examine classification algorithms. We do not need to implement the algorithms; instead, we will use the functions available in the `scikit-learn` library to solve the question."
   ]
  },
  {
   "cell_type": "markdown",
   "metadata": {
    "id": "ZZM6ukbVNXsR",
    "pycharm": {
     "name": "#%% md\n"
    }
   },
   "source": [
    "## Importing Libraries\n",
    "\n",
    "First, we import all required libraries.\n",
    "\n",
    "**Attention**: You should only use these libraries. Other libraries are not acceptable."
   ]
  },
  {
   "cell_type": "code",
   "execution_count": 1,
   "metadata": {
    "id": "cVcSib9xMcYs",
    "pycharm": {
     "name": "#%%\n"
    }
   },
   "outputs": [],
   "source": [
    "import numpy as np\n",
    "import pandas as pd\n",
    "import matplotlib.pyplot as plt\n",
    "from sklearn.datasets import load_breast_cancer\n",
    "from sklearn.model_selection import train_test_split\n",
    "from sklearn.linear_model import LogisticRegression\n",
    "from sklearn.discriminant_analysis import LinearDiscriminantAnalysis\n",
    "from sklearn.naive_bayes import GaussianNB"
   ]
  },
  {
   "attachments": {},
   "cell_type": "markdown",
   "metadata": {
    "id": "1j8Wkh1_R3if",
    "pycharm": {
     "name": "#%% md\n"
    }
   },
   "source": [
    "## Loading Data\n",
    "\n",
    "In this question, we will use the **Breast Cancer** dataset from `scikit-learn`. You can run the following cell to load the dataset:"
   ]
  },
  {
   "cell_type": "code",
   "execution_count": 2,
   "metadata": {
    "id": "JwrbBNTJSKmw",
    "pycharm": {
     "name": "#%%\n"
    }
   },
   "outputs": [
    {
     "name": "stdout",
     "output_type": "stream",
     "text": [
      "(569, 30)\n",
      "(569,)\n"
     ]
    },
    {
     "data": {
      "text/plain": "array([[1.799e+01, 1.038e+01, 1.228e+02, ..., 2.654e-01, 4.601e-01,\n        1.189e-01],\n       [2.057e+01, 1.777e+01, 1.329e+02, ..., 1.860e-01, 2.750e-01,\n        8.902e-02],\n       [1.969e+01, 2.125e+01, 1.300e+02, ..., 2.430e-01, 3.613e-01,\n        8.758e-02],\n       ...,\n       [1.660e+01, 2.808e+01, 1.083e+02, ..., 1.418e-01, 2.218e-01,\n        7.820e-02],\n       [2.060e+01, 2.933e+01, 1.401e+02, ..., 2.650e-01, 4.087e-01,\n        1.240e-01],\n       [7.760e+00, 2.454e+01, 4.792e+01, ..., 0.000e+00, 2.871e-01,\n        7.039e-02]])"
     },
     "execution_count": 2,
     "metadata": {},
     "output_type": "execute_result"
    }
   ],
   "source": [
    "data = load_breast_cancer() # loading cancer data\n",
    "\n",
    "X = data.data # features\n",
    "Y = data.target # labels \n",
    "\n",
    "# printing size of the features and targets\n",
    "print(X.shape)\n",
    "print(Y.shape)\n",
    "X"
   ]
  },
  {
   "cell_type": "markdown",
   "metadata": {
    "id": "H8wrGIzsSh0g",
    "pycharm": {
     "name": "#%% md\n"
    }
   },
   "source": [
    "Now you should use `train_test_split` function to split dataset into three parts:\n",
    "\n",
    "- 70% for the training set\n",
    "- 20% for the validation set\n",
    "- 10% for the test set\n",
    "\n",
    "Do this in the cell below."
   ]
  },
  {
   "cell_type": "code",
   "execution_count": 3,
   "metadata": {
    "id": "BxGOZp_OS8-y",
    "pycharm": {
     "name": "#%%\n"
    }
   },
   "outputs": [],
   "source": [
    "X_train, Y_train, X_val, Y_val, X_test, Y_test = None, None, None, None, None, None\n",
    "\n",
    "### START CODE HERE ###\n",
    "X_trainval, X_test, Y_trainval, Y_test = train_test_split(X, Y, test_size=0.1, random_state=42)\n",
    "X_train, X_val, Y_train, Y_val = train_test_split(X_trainval, Y_trainval, test_size=0.2, random_state=42)\n",
    "### END CODE HERE ###"
   ]
  },
  {
   "attachments": {},
   "cell_type": "markdown",
   "metadata": {
    "id": "8PQZhqrxTOUG",
    "pycharm": {
     "name": "#%% md\n"
    }
   },
   "source": [
    "## Logistic Regression\n",
    "\n",
    "In this part of the question, you will use the `LogisticRegression` classifier to classify the data. You should change the value of `C`, which is the inverse of the regularization parameter, and find the accuracy on the validation set. Using the validation accuracy, you can find the best value for `C`. Note that you may want to change the solver for faster convergence. The `liblinear` solver is recommended for this problem. You can visit [this link](https://scikit-learn.org/stable/modules/generated/sklearn.linear_model.LogisticRegression.html) for more information about the `LogisticRegression` classifier.\n",
    "\n",
    "**Question**: What is the best value of `C`?\n",
    "\n",
    "**Answer**: in code below we can see with changing c value our validation accuracy change, And it doesn't have any specific way to find best value for c.I choose c=0.2 for test."
   ]
  },
  {
   "cell_type": "code",
   "execution_count": 4,
   "metadata": {
    "id": "EO71NefdUAat",
    "pycharm": {
     "name": "#%%\n"
    }
   },
   "outputs": [
    {
     "name": "stdout",
     "output_type": "stream",
     "text": [
      "Validation accuracy with C=0.05: 0.941748\n",
      "Validation accuracy with C=0.10: 0.941748\n",
      "Validation accuracy with C=0.15: 0.951456\n",
      "Validation accuracy with C=0.20: 0.951456\n",
      "Validation accuracy with C=0.25: 0.951456\n",
      "Validation accuracy with C=0.30: 0.951456\n",
      "Validation accuracy with C=0.35: 0.951456\n",
      "Validation accuracy with C=0.40: 0.951456\n",
      "Validation accuracy with C=0.45: 0.951456\n",
      "Validation accuracy with C=0.50: 0.941748\n",
      "Validation accuracy with C=0.55: 0.941748\n",
      "Validation accuracy with C=0.60: 0.941748\n",
      "Validation accuracy with C=0.65: 0.941748\n",
      "Validation accuracy with C=0.70: 0.941748\n",
      "Validation accuracy with C=0.75: 0.941748\n",
      "Validation accuracy with C=0.80: 0.941748\n",
      "Validation accuracy with C=0.85: 0.941748\n",
      "Validation accuracy with C=0.90: 0.941748\n",
      "Validation accuracy with C=0.95: 0.941748\n",
      "Validation accuracy with C=1.00: 0.941748\n",
      "Validation accuracy with C=2.00: 0.941748\n",
      "Validation accuracy with C=3.00: 0.941748\n",
      "Validation accuracy with C=4.00: 0.932039\n",
      "Validation accuracy with C=5.00: 0.932039\n",
      "Validation accuracy with C=6.00: 0.932039\n",
      "Validation accuracy with C=7.00: 0.932039\n",
      "Validation accuracy with C=8.00: 0.932039\n",
      "Validation accuracy with C=9.00: 0.951456\n",
      "Validation accuracy with C=10.00: 0.951456\n"
     ]
    }
   ],
   "source": [
    "### START CODE HERE ###\n",
    "for C in np.arange (0.05,1.05,0.05):\n",
    "    clf = LogisticRegression(C=C, solver='liblinear')\n",
    "    clf.fit(X_train, Y_train)\n",
    "    val_acc = clf.score(X_val, Y_val)\n",
    "    print(f\"Validation accuracy with C={C:.2f}: {val_acc:.6f}\")\n",
    "for C in range (2,11):\n",
    "    clf = LogisticRegression(C=C, solver='liblinear')\n",
    "    clf.fit(X_train, Y_train)\n",
    "    val_acc = clf.score(X_val, Y_val)\n",
    "    print(f\"Validation accuracy with C={C:.2f}: {val_acc:.6f}\")\n",
    "### END CODE HERE ###"
   ]
  },
  {
   "cell_type": "markdown",
   "metadata": {
    "id": "eoHaii2pU8wZ",
    "pycharm": {
     "name": "#%% md\n"
    }
   },
   "source": [
    "Now use your best classifier to calculate the accuracy on the test set.\n",
    "\n",
    "**Qusetion**: What is the accuracy of this classifier on test set?\n",
    "\n",
    "**Answer**: The accuracy for test is very high, and equals to 0.982\n",
    "$$\\text{accuracy} = \\frac{\\text{number of correct predicted samples}}{\\text{total number of samples}} = \\frac{\\sum_{i=1}^n [Y_{\\text{prediction},i} = Y_{\\text{test},i}]\\times 1}{n}$$\n",
    "and we calculate it with .score function in sklearn library."
   ]
  },
  {
   "cell_type": "code",
   "execution_count": 23,
   "metadata": {
    "id": "jcZUGS6WVP75",
    "pycharm": {
     "name": "#%%\n"
    }
   },
   "outputs": [
    {
     "name": "stdout",
     "output_type": "stream",
     "text": [
      "Test accuracy with C= 0.2: 0.9824561403508771\n"
     ]
    }
   ],
   "source": [
    "### START CODE HERE ###\n",
    "#for c= 0.2\n",
    "clf = LogisticRegression(C=0.2, solver='liblinear')\n",
    "clf.fit(X_train, Y_train)\n",
    "test_acc = clf.score(X_test, Y_test)\n",
    "print(f\"Test accuracy with C= 0.2: {test_acc}\")\n",
    "### END CODE HERE ###"
   ]
  },
  {
   "attachments": {},
   "cell_type": "markdown",
   "metadata": {
    "id": "3lKNbTnjVQgU",
    "pycharm": {
     "name": "#%% md\n"
    }
   },
   "source": [
    "For this additional part, you can use only the first two features of the dataset to classify the data and then draw the data points and the boundary on a figure. You can use the [tutorial](https://aleksandarhaber.com/solve-classification-problems-in-python-scikit-learn-and-visualize-the-classification-results-machine-learning-tutorial/?utm_source=rss&utm_medium=rss&utm_campaign=solve-classification-problems-in-python-scikit-learn-and-visualize-the-classification-results-machine-learning-tutorial) provided to learn how to do this. You may need to use additional libraries such as `matplotlib` specifically for this part."
   ]
  },
  {
   "cell_type": "code",
   "execution_count": 10,
   "metadata": {
    "id": "H149H3EIVmvn",
    "pycharm": {
     "name": "#%%\n"
    }
   },
   "outputs": [
    {
     "name": "stdout",
     "output_type": "stream",
     "text": [
      "(409, 2)\n",
      "Validation accuracy with C=0.05: 0.747573\n",
      "Test accuracy with C= 0.05:  0.825\n",
      "Validation accuracy with C=0.10: 0.805825\n",
      "Test accuracy with C= 0.10:  0.860\n",
      "Validation accuracy with C=0.15: 0.805825\n",
      "Test accuracy with C= 0.15:  0.895\n",
      "Validation accuracy with C=0.20: 0.805825\n",
      "Test accuracy with C= 0.20:  0.947\n",
      "Validation accuracy with C=0.25: 0.834951\n",
      "Test accuracy with C= 0.25:  0.947\n",
      "Validation accuracy with C=0.30: 0.834951\n",
      "Test accuracy with C= 0.30:  0.965\n",
      "Validation accuracy with C=0.35: 0.834951\n",
      "Test accuracy with C= 0.35:  0.965\n",
      "Validation accuracy with C=0.40: 0.834951\n",
      "Test accuracy with C= 0.40:  0.965\n",
      "Validation accuracy with C=0.45: 0.844660\n",
      "Test accuracy with C= 0.45:  0.965\n",
      "Validation accuracy with C=0.50: 0.854369\n",
      "Test accuracy with C= 0.50:  0.965\n",
      "Validation accuracy with C=0.55: 0.834951\n",
      "Test accuracy with C= 0.55:  0.982\n",
      "Validation accuracy with C=0.60: 0.844660\n",
      "Test accuracy with C= 0.60:  0.982\n",
      "Validation accuracy with C=0.65: 0.844660\n",
      "Test accuracy with C= 0.65:  0.982\n",
      "Validation accuracy with C=0.70: 0.844660\n",
      "Test accuracy with C= 0.70:  0.982\n",
      "Validation accuracy with C=0.75: 0.844660\n",
      "Test accuracy with C= 0.75:  0.982\n",
      "Validation accuracy with C=0.80: 0.864078\n",
      "Test accuracy with C= 0.80:  0.982\n",
      "Validation accuracy with C=0.85: 0.864078\n",
      "Test accuracy with C= 0.85:  0.982\n",
      "Validation accuracy with C=0.90: 0.864078\n",
      "Test accuracy with C= 0.90:  0.982\n",
      "Validation accuracy with C=0.95: 0.864078\n",
      "Test accuracy with C= 0.95:  0.982\n",
      "Validation accuracy with C=1.00: 0.854369\n",
      "Test accuracy with C= 1.00:  0.965\n",
      "Validation accuracy with C=2.00: 0.844660\n",
      "Test accuracy with C= 2.00:  0.965\n",
      "Validation accuracy with C=3.00: 0.854369\n",
      "Test accuracy with C= 3.00:  0.947\n",
      "Validation accuracy with C=4.00: 0.854369\n",
      "Test accuracy with C= 4.00:  0.947\n",
      "Validation accuracy with C=5.00: 0.864078\n",
      "Test accuracy with C= 5.00:  0.947\n",
      "Validation accuracy with C=6.00: 0.864078\n",
      "Test accuracy with C= 6.00:  0.947\n",
      "Validation accuracy with C=7.00: 0.864078\n",
      "Test accuracy with C= 7.00:  0.947\n",
      "Validation accuracy with C=8.00: 0.864078\n",
      "Test accuracy with C= 8.00:  0.947\n",
      "Validation accuracy with C=9.00: 0.864078\n",
      "Test accuracy with C= 9.00:  0.947\n",
      "Validation accuracy with C=10.00: 0.864078\n",
      "Test accuracy with C= 10.00:  0.947\n"
     ]
    }
   ],
   "source": [
    "### START CODE HERE ###\n",
    "X_2ftrain=X_train[:,0:2]\n",
    "X_2fval=X_val[:,0:2]\n",
    "X_2ftest=X_test[:,0:2]\n",
    "print(X_2ftrain.shape)\n",
    "for C in np.arange (0.05,1.05,0.05):\n",
    "    clf = LogisticRegression(C=C, solver='liblinear')\n",
    "    clf.fit(X_2ftrain, Y_train)\n",
    "    val_acc = clf.score(X_2fval, Y_val)\n",
    "    print(f\"Validation accuracy with C={C:.2f}: {val_acc:.6f}\")\n",
    "    test_acc = clf.score(X_2ftest, Y_test)\n",
    "    print(f\"Test accuracy with C= {C:.2f}: {test_acc: .3f}\")\n",
    "for C in range (2,11):\n",
    "    clf = LogisticRegression(C=C, solver='liblinear')\n",
    "    clf.fit(X_2ftrain, Y_train)\n",
    "    val_acc = clf.score(X_2fval, Y_val)\n",
    "    print(f\"Validation accuracy with C={C:.2f}: {val_acc:.6f}\")\n",
    "    test_acc = clf.score(X_2ftest, Y_test)\n",
    "    print(f\"Test accuracy with C= {C:.2f}: {test_acc: .3f}\")\n",
    "### END CODE HERE ###"
   ]
  },
  {
   "cell_type": "code",
   "execution_count": 15,
   "outputs": [
    {
     "data": {
      "text/plain": "<Figure size 640x480 with 1 Axes>",
      "image/png": "[encoded data removed]"
     },
     "metadata": {},
     "output_type": "display_data"
    }
   ],
   "source": [
    "#c=0.8\n",
    "clf = LogisticRegression(C=0.8,solver='liblinear')\n",
    "clf.fit(X_2ftrain, Y_train)\n",
    "x_min, x_max = X_2ftrain[:, 0].min() - 0.5, X_2ftrain[:, 0].max() + 0.5\n",
    "y_min, y_max = X_2ftrain[:, 1].min() - 0.5, X_2ftrain[:, 1].max() + 0.5\n",
    "xx_mesh, yy_mesh = np.meshgrid(np.arange(x_min, x_max, 0.02), np.arange(y_min, y_max, 0.02))\n",
    "\n",
    "pred = clf.predict(np.c_[xx_mesh.ravel(), yy_mesh.ravel()])\n",
    "pred = pred.reshape(xx_mesh.shape)\n",
    "\n",
    "plt.scatter(X_2ftrain[:, 0], X_2ftrain[:, 1], c=Y_train, cmap=plt.cm.Paired)\n",
    "plt.contourf(xx_mesh, yy_mesh, pred, cmap=plt.cm.Paired, alpha=0.5)\n",
    "plt.xlim(xx_mesh.min(), xx_mesh.max())\n",
    "plt.ylim(yy_mesh.min(), yy_mesh.max())\n",
    "plt.xlabel('Feature 1')\n",
    "plt.ylabel('Feature 2')\n",
    "plt.show()"
   ],
   "metadata": {
    "collapsed": false,
    "pycharm": {
     "name": "#%%\n"
    }
   }
  },
  {
   "attachments": {},
   "cell_type": "markdown",
   "metadata": {
    "id": "UoIWVF51V4BY",
    "pycharm": {
     "name": "#%% md\n"
    }
   },
   "source": [
    "## Naive Bayes\n",
    "\n",
    "In this part, you will use the `GaussianNB` classifier to classify the data. You should not change the default parameters of this classifier. First, train the classifier on the training set and then find the accuracy of it on the test set.\n",
    "\n",
    "**Question**: What is the accuracy of this method on test set?\n",
    "\n",
    "**Answer**: the accuracy is 0.982"
   ]
  },
  {
   "cell_type": "code",
   "execution_count": 27,
   "metadata": {
    "id": "HdPBdhTOV3m1",
    "pycharm": {
     "name": "#%%\n"
    }
   },
   "outputs": [
    {
     "name": "stdout",
     "output_type": "stream",
     "text": [
      "Test accuracy is : 0.9824561403508771\n"
     ]
    }
   ],
   "source": [
    "### START CODE HERE ###\n",
    "gnb = GaussianNB()\n",
    "gnb.fit(X_train, Y_train)\n",
    "test_acc1 = gnb.score(X_test, Y_test)\n",
    "print(f\"Test accuracy is : {test_acc1}\")\n",
    "### END CODE HERE ###"
   ]
  },
  {
   "attachments": {},
   "cell_type": "markdown",
   "metadata": {
    "id": "9l-KmLh-WWtP",
    "pycharm": {
     "name": "#%% md\n"
    }
   },
   "source": [
    "## LDA (Linear Discriminant Analysis)\n",
    "\n",
    "In this part, you will use the `LinearDiscriminantAnalysis` classifier to classify the data. You should not change the default parameters of this classifier. First, train the classifier on the training set and then find the accuracy of it on the test set.\n",
    "\n",
    "**Question**: What is the accuracy of this method on test set?\n",
    "\n",
    "**Answer**:it is 0.9824"
   ]
  },
  {
   "cell_type": "code",
   "execution_count": 21,
   "metadata": {
    "id": "GF5RAdxWWs8Y",
    "pycharm": {
     "name": "#%%\n"
    }
   },
   "outputs": [
    {
     "name": "stdout",
     "output_type": "stream",
     "text": [
      "Test accuracy is : 0.9649122807017544\n"
     ]
    }
   ],
   "source": [
    "### START CODE HERE ###\n",
    "lda = LinearDiscriminantAnalysis()\n",
    "lda.fit(X_train, Y_train)\n",
    "test_acc2 = lda.score(X_test, Y_test)\n",
    "print(f\"Test accuracy is : {test_acc2}\")\n",
    "### END CODE HERE ###"
   ]
  },
  {
   "cell_type": "markdown",
   "metadata": {
    "id": "yUwTuO5wW0FI",
    "pycharm": {
     "name": "#%% md\n"
    }
   },
   "source": [
    "## Conclution\n",
    "\n",
    "**Question**: What is the best method for classifying this dataset? What is the best accuracy on the test set?\n",
    "\n",
    "**Answer**:in conclusion,The best method for this data are gaussian nave bayes that the accuracy is  0.98 and linear regression with similar accuracy, lda accuracy is 96.4 percent, and it's less than other methods"
   ]
  }
 ],
 "metadata": {
  "colab": {
   "provenance": []
  },
  "kernelspec": {
   "display_name": "Python 3",
   "name": "python3"
  },
  "language_info": {
   "name": "python"
  }
 },
 "nbformat": 4,
 "nbformat_minor": 0
}